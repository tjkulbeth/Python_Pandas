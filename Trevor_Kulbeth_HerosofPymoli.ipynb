{
 "cells": [
  {
   "cell_type": "markdown",
   "metadata": {},
   "source": [
    "### Heroes Of Pymoli Data Analysis\n",
    "* Of the 1163 active players, the vast majority are male (84%). There also exists, a smaller, but notable proportion of female players (14%).\n",
    "\n",
    "* Our peak age demographic falls between 20-24 (44.8%) with secondary groups falling between 15-19 (18.60%) and 25-29 (13.4%).  \n",
    "-----"
   ]
  },
  {
   "cell_type": "markdown",
   "metadata": {},
   "source": [
    "### Note\n",
    "* Instructions have been included for each segment. You do not have to follow them exactly, but they are included to help you think through the steps."
   ]
  },
  {
   "cell_type": "code",
   "execution_count": 1,
   "metadata": {},
   "outputs": [
    {
     "data": {
      "text/html": [
       "<div>\n",
       "<style scoped>\n",
       "    .dataframe tbody tr th:only-of-type {\n",
       "        vertical-align: middle;\n",
       "    }\n",
       "\n",
       "    .dataframe tbody tr th {\n",
       "        vertical-align: top;\n",
       "    }\n",
       "\n",
       "    .dataframe thead th {\n",
       "        text-align: right;\n",
       "    }\n",
       "</style>\n",
       "<table border=\"1\" class=\"dataframe\">\n",
       "  <thead>\n",
       "    <tr style=\"text-align: right;\">\n",
       "      <th></th>\n",
       "      <th>Purchase ID</th>\n",
       "      <th>SN</th>\n",
       "      <th>Age</th>\n",
       "      <th>Gender</th>\n",
       "      <th>Item ID</th>\n",
       "      <th>Item Name</th>\n",
       "      <th>Price</th>\n",
       "    </tr>\n",
       "  </thead>\n",
       "  <tbody>\n",
       "    <tr>\n",
       "      <th>0</th>\n",
       "      <td>0</td>\n",
       "      <td>Lisim78</td>\n",
       "      <td>20</td>\n",
       "      <td>Male</td>\n",
       "      <td>108</td>\n",
       "      <td>Extraction, Quickblade Of Trembling Hands</td>\n",
       "      <td>3.53</td>\n",
       "    </tr>\n",
       "    <tr>\n",
       "      <th>1</th>\n",
       "      <td>1</td>\n",
       "      <td>Lisovynya38</td>\n",
       "      <td>40</td>\n",
       "      <td>Male</td>\n",
       "      <td>143</td>\n",
       "      <td>Frenzied Scimitar</td>\n",
       "      <td>1.56</td>\n",
       "    </tr>\n",
       "    <tr>\n",
       "      <th>2</th>\n",
       "      <td>2</td>\n",
       "      <td>Ithergue48</td>\n",
       "      <td>24</td>\n",
       "      <td>Male</td>\n",
       "      <td>92</td>\n",
       "      <td>Final Critic</td>\n",
       "      <td>4.88</td>\n",
       "    </tr>\n",
       "    <tr>\n",
       "      <th>3</th>\n",
       "      <td>3</td>\n",
       "      <td>Chamassasya86</td>\n",
       "      <td>24</td>\n",
       "      <td>Male</td>\n",
       "      <td>100</td>\n",
       "      <td>Blindscythe</td>\n",
       "      <td>3.27</td>\n",
       "    </tr>\n",
       "    <tr>\n",
       "      <th>4</th>\n",
       "      <td>4</td>\n",
       "      <td>Iskosia90</td>\n",
       "      <td>23</td>\n",
       "      <td>Male</td>\n",
       "      <td>131</td>\n",
       "      <td>Fury</td>\n",
       "      <td>1.44</td>\n",
       "    </tr>\n",
       "  </tbody>\n",
       "</table>\n",
       "</div>"
      ],
      "text/plain": [
       "   Purchase ID             SN  Age Gender  Item ID  \\\n",
       "0            0        Lisim78   20   Male      108   \n",
       "1            1    Lisovynya38   40   Male      143   \n",
       "2            2     Ithergue48   24   Male       92   \n",
       "3            3  Chamassasya86   24   Male      100   \n",
       "4            4      Iskosia90   23   Male      131   \n",
       "\n",
       "                                   Item Name  Price  \n",
       "0  Extraction, Quickblade Of Trembling Hands   3.53  \n",
       "1                          Frenzied Scimitar   1.56  \n",
       "2                               Final Critic   4.88  \n",
       "3                                Blindscythe   3.27  \n",
       "4                                       Fury   1.44  "
      ]
     },
     "execution_count": 1,
     "metadata": {},
     "output_type": "execute_result"
    }
   ],
   "source": [
    "# Dependencies and Setup\n",
    "import pandas as pd\n",
    "import numpy as np\n",
    "\n",
    "# File to Load (Remember to Change These)\n",
    "file_to_load = \"Resources/purchase_data.csv\"\n",
    "\n",
    "# Read Purchasing File and store into Pandas data frame\n",
    "purchase_data = pd.read_csv(file_to_load)\n",
    "purchase_data.head()"
   ]
  },
  {
   "cell_type": "markdown",
   "metadata": {},
   "source": [
    "## Player Count"
   ]
  },
  {
   "cell_type": "markdown",
   "metadata": {},
   "source": [
    "* Display the total number of players\n"
   ]
  },
  {
   "cell_type": "code",
   "execution_count": 259,
   "metadata": {},
   "outputs": [
    {
     "data": {
      "text/html": [
       "<div>\n",
       "<style scoped>\n",
       "    .dataframe tbody tr th:only-of-type {\n",
       "        vertical-align: middle;\n",
       "    }\n",
       "\n",
       "    .dataframe tbody tr th {\n",
       "        vertical-align: top;\n",
       "    }\n",
       "\n",
       "    .dataframe thead th {\n",
       "        text-align: right;\n",
       "    }\n",
       "</style>\n",
       "<table border=\"1\" class=\"dataframe\">\n",
       "  <thead>\n",
       "    <tr style=\"text-align: right;\">\n",
       "      <th></th>\n",
       "      <th>Total Players</th>\n",
       "    </tr>\n",
       "  </thead>\n",
       "  <tbody>\n",
       "    <tr>\n",
       "      <th>0</th>\n",
       "      <td>780</td>\n",
       "    </tr>\n",
       "  </tbody>\n",
       "</table>\n",
       "</div>"
      ],
      "text/plain": [
       "   Total Players\n",
       "0            780"
      ]
     },
     "execution_count": 259,
     "metadata": {},
     "output_type": "execute_result"
    }
   ],
   "source": [
    "total_count = {\"Total Players\": [purchase_data[\"Purchase ID\"].count()]}\n",
    "pd.DataFrame.from_dict(total_count)\n"
   ]
  },
  {
   "cell_type": "markdown",
   "metadata": {},
   "source": [
    "## Purchasing Analysis (Total)"
   ]
  },
  {
   "cell_type": "markdown",
   "metadata": {},
   "source": [
    "* Run basic calculations to obtain number of unique items, average price, etc.\n",
    "\n",
    "\n",
    "* Create a summary data frame to hold the results\n",
    "\n",
    "\n",
    "* Optional: give the displayed data cleaner formatting\n",
    "\n",
    "\n",
    "* Display the summary data frame\n"
   ]
  },
  {
   "cell_type": "code",
   "execution_count": 274,
   "metadata": {
    "scrolled": true
   },
   "outputs": [
    {
     "data": {
      "text/html": [
       "<style  type=\"text/css\" >\n",
       "</style>  \n",
       "<table id=\"T_503611f6_32fc_11e9_b20a_484520b20b50\" > \n",
       "<thead>    <tr> \n",
       "        <th class=\"blank level0\" ></th> \n",
       "        <th class=\"col_heading level0 col0\" >Number of Unique Items</th> \n",
       "        <th class=\"col_heading level0 col1\" >Average Price</th> \n",
       "        <th class=\"col_heading level0 col2\" >Total Number of Purchases</th> \n",
       "        <th class=\"col_heading level0 col3\" >Total Revenue</th> \n",
       "    </tr></thead> \n",
       "<tbody>    <tr> \n",
       "        <th id=\"T_503611f6_32fc_11e9_b20a_484520b20b50level0_row0\" class=\"row_heading level0 row0\" >0</th> \n",
       "        <td id=\"T_503611f6_32fc_11e9_b20a_484520b20b50row0_col0\" class=\"data row0 col0\" >179</td> \n",
       "        <td id=\"T_503611f6_32fc_11e9_b20a_484520b20b50row0_col1\" class=\"data row0 col1\" >$13.29</td> \n",
       "        <td id=\"T_503611f6_32fc_11e9_b20a_484520b20b50row0_col2\" class=\"data row0 col2\" >780</td> \n",
       "        <td id=\"T_503611f6_32fc_11e9_b20a_484520b20b50row0_col3\" class=\"data row0 col3\" >$2379.77</td> \n",
       "    </tr></tbody> \n",
       "</table> "
      ],
      "text/plain": [
       "<pandas.io.formats.style.Styler at 0x22150528630>"
      ]
     },
     "execution_count": 274,
     "metadata": {},
     "output_type": "execute_result"
    }
   ],
   "source": [
    "# Purchasing Analysis\n",
    "unique_data = purchase_data[['Item Name','Price']]\n",
    "unique_items = [unique_data['Item Name'].unique()]\n",
    "# Count unique items\n",
    "unique_count = len(unique_items[0])\n",
    "# Calculate Average Price\n",
    "average = unique_data['Price'].sum()/unique_count\n",
    "#Total number of purchases \n",
    "num_purch = len(unique_data)\n",
    "#Total revenue\n",
    "tot_rev = unique_data['Price'].sum()\n",
    "Purch_Analysis = {\"Number of Unique Items\": unique_count, \"Average Price\": average, \"Total Number of Purchases\": num_purch,\n",
    "                 \"Total Revenue\": tot_rev} \n",
    "# Purch_Analysis\n",
    "Final_df = pd.DataFrame.from_dict(Purch_Analysis, orient='index')\n",
    "Final_df = Final_df.transpose()\n",
    "Final_df = Final_df.style.format({'Average Price': \"${:.2f}\", 'Total Revenue': \"${:.2f}\" })\n",
    "Final_df\n"
   ]
  },
  {
   "cell_type": "markdown",
   "metadata": {},
   "source": [
    "## Gender Demographics"
   ]
  },
  {
   "cell_type": "markdown",
   "metadata": {},
   "source": [
    "* Percentage and Count of Male Players\n",
    "\n",
    "\n",
    "* Percentage and Count of Female Players\n",
    "\n",
    "\n",
    "* Percentage and Count of Other / Non-Disclosed\n",
    "\n",
    "\n"
   ]
  },
  {
   "cell_type": "code",
   "execution_count": 285,
   "metadata": {},
   "outputs": [
    {
     "data": {
      "text/html": [
       "<style  type=\"text/css\" >\n",
       "</style>  \n",
       "<table id=\"T_7ee4825a_32fd_11e9_ac64_484520b20b50\" > \n",
       "<thead>    <tr> \n",
       "        <th class=\"blank level0\" ></th> \n",
       "        <th class=\"col_heading level0 col0\" >Total Count</th> \n",
       "        <th class=\"col_heading level0 col1\" >Percentage of Players</th> \n",
       "    </tr></thead> \n",
       "<tbody>    <tr> \n",
       "        <th id=\"T_7ee4825a_32fd_11e9_ac64_484520b20b50level0_row0\" class=\"row_heading level0 row0\" >Male</th> \n",
       "        <td id=\"T_7ee4825a_32fd_11e9_ac64_484520b20b50row0_col0\" class=\"data row0 col0\" >652</td> \n",
       "        <td id=\"T_7ee4825a_32fd_11e9_ac64_484520b20b50row0_col1\" class=\"data row0 col1\" >0.84%</td> \n",
       "    </tr>    <tr> \n",
       "        <th id=\"T_7ee4825a_32fd_11e9_ac64_484520b20b50level0_row1\" class=\"row_heading level0 row1\" >Female</th> \n",
       "        <td id=\"T_7ee4825a_32fd_11e9_ac64_484520b20b50row1_col0\" class=\"data row1 col0\" >113</td> \n",
       "        <td id=\"T_7ee4825a_32fd_11e9_ac64_484520b20b50row1_col1\" class=\"data row1 col1\" >0.14%</td> \n",
       "    </tr>    <tr> \n",
       "        <th id=\"T_7ee4825a_32fd_11e9_ac64_484520b20b50level0_row2\" class=\"row_heading level0 row2\" >Other / Non-Disclosed</th> \n",
       "        <td id=\"T_7ee4825a_32fd_11e9_ac64_484520b20b50row2_col0\" class=\"data row2 col0\" >15</td> \n",
       "        <td id=\"T_7ee4825a_32fd_11e9_ac64_484520b20b50row2_col1\" class=\"data row2 col1\" >0.02%</td> \n",
       "    </tr></tbody> \n",
       "</table> "
      ],
      "text/plain": [
       "<pandas.io.formats.style.Styler at 0x2214ef83be0>"
      ]
     },
     "execution_count": 285,
     "metadata": {},
     "output_type": "execute_result"
    }
   ],
   "source": [
    "# Percentage and Count of Players\n",
    "gender_count = purchase_data['Gender'].value_counts()\n",
    "gender_percentage = gender_count/len(purchase_data)\n",
    "gender_demo = pd.concat([gender_count, gender_percentage], axis=1, \n",
    "                        keys=['Total Count', 'Percentage of Players'])\n",
    "gender_demo.style.format({'Percentage of Players': \"{:.2f}%\"})"
   ]
  },
  {
   "cell_type": "markdown",
   "metadata": {},
   "source": [
    "\n",
    "## Purchasing Analysis (Gender)"
   ]
  },
  {
   "cell_type": "markdown",
   "metadata": {},
   "source": [
    "* Run basic calculations to obtain purchase count, avg. purchase price, avg. purchase total per person etc. by gender\n",
    "\n",
    "\n",
    "\n",
    "\n",
    "* Create a summary data frame to hold the results\n",
    "\n",
    "\n",
    "* Optional: give the displayed data cleaner formatting\n",
    "\n",
    "\n",
    "* Display the summary data frame"
   ]
  },
  {
   "cell_type": "code",
   "execution_count": 275,
   "metadata": {},
   "outputs": [
    {
     "data": {
      "text/html": [
       "<style  type=\"text/css\" >\n",
       "</style>  \n",
       "<table id=\"T_aa7beecc_32fc_11e9_822a_484520b20b50\" > \n",
       "<thead>    <tr> \n",
       "        <th class=\"blank level0\" ></th> \n",
       "        <th class=\"col_heading level0 col0\" >Purchase Count</th> \n",
       "        <th class=\"col_heading level0 col1\" >Avg. Purchase Price</th> \n",
       "        <th class=\"col_heading level0 col2\" >Total Purchase Value</th> \n",
       "        <th class=\"col_heading level0 col3\" >Avg. Purchase Total per Person</th> \n",
       "    </tr>    <tr> \n",
       "        <th class=\"index_name level0\" >Gender</th> \n",
       "        <th class=\"blank\" ></th> \n",
       "        <th class=\"blank\" ></th> \n",
       "        <th class=\"blank\" ></th> \n",
       "        <th class=\"blank\" ></th> \n",
       "    </tr></thead> \n",
       "<tbody>    <tr> \n",
       "        <th id=\"T_aa7beecc_32fc_11e9_822a_484520b20b50level0_row0\" class=\"row_heading level0 row0\" >Female</th> \n",
       "        <td id=\"T_aa7beecc_32fc_11e9_822a_484520b20b50row0_col0\" class=\"data row0 col0\" >113</td> \n",
       "        <td id=\"T_aa7beecc_32fc_11e9_822a_484520b20b50row0_col1\" class=\"data row0 col1\" >$3.20</td> \n",
       "        <td id=\"T_aa7beecc_32fc_11e9_822a_484520b20b50row0_col2\" class=\"data row0 col2\" >$361.94</td> \n",
       "        <td id=\"T_aa7beecc_32fc_11e9_822a_484520b20b50row0_col3\" class=\"data row0 col3\" >$4.47</td> \n",
       "    </tr>    <tr> \n",
       "        <th id=\"T_aa7beecc_32fc_11e9_822a_484520b20b50level0_row1\" class=\"row_heading level0 row1\" >Male</th> \n",
       "        <td id=\"T_aa7beecc_32fc_11e9_822a_484520b20b50row1_col0\" class=\"data row1 col0\" >652</td> \n",
       "        <td id=\"T_aa7beecc_32fc_11e9_822a_484520b20b50row1_col1\" class=\"data row1 col1\" >$3.02</td> \n",
       "        <td id=\"T_aa7beecc_32fc_11e9_822a_484520b20b50row1_col2\" class=\"data row1 col2\" >$1967.64</td> \n",
       "        <td id=\"T_aa7beecc_32fc_11e9_822a_484520b20b50row1_col3\" class=\"data row1 col3\" >$4.07</td> \n",
       "    </tr>    <tr> \n",
       "        <th id=\"T_aa7beecc_32fc_11e9_822a_484520b20b50level0_row2\" class=\"row_heading level0 row2\" >Other / Non-Disclosed</th> \n",
       "        <td id=\"T_aa7beecc_32fc_11e9_822a_484520b20b50row2_col0\" class=\"data row2 col0\" >15</td> \n",
       "        <td id=\"T_aa7beecc_32fc_11e9_822a_484520b20b50row2_col1\" class=\"data row2 col1\" >$3.35</td> \n",
       "        <td id=\"T_aa7beecc_32fc_11e9_822a_484520b20b50row2_col2\" class=\"data row2 col2\" >$50.19</td> \n",
       "        <td id=\"T_aa7beecc_32fc_11e9_822a_484520b20b50row2_col3\" class=\"data row2 col3\" >$4.56</td> \n",
       "    </tr></tbody> \n",
       "</table> "
      ],
      "text/plain": [
       "<pandas.io.formats.style.Styler at 0x2214ff53f98>"
      ]
     },
     "execution_count": 275,
     "metadata": {},
     "output_type": "execute_result"
    }
   ],
   "source": [
    "gender_purch_df = pd.DataFrame({'Purchase Count': purchase_data.groupby(['Gender'])['Price'].count(),\n",
    "                        'Avg. Purchase Price': purchase_data.groupby(['Gender'])['Price'].mean(),\n",
    "                        'Total Purchase Value': purchase_data.groupby(['Gender'])['Price'].sum(),\n",
    "                       'Avg. Purchase Total per Person': purchase_data.groupby(['Gender','SN'])['Price'].sum().mean(level='Gender')})\n",
    "                        \n",
    "gender_purch_df.style.format({'Avg. Purchase Price': \"${:.2f}\", \n",
    "                              'Total Purchase Value': \"${:.2f}\",\n",
    "                              'Avg. Purchase Total per Person': \"${:.2f}\" })"
   ]
  },
  {
   "cell_type": "markdown",
   "metadata": {},
   "source": [
    "## Age Demographics"
   ]
  },
  {
   "cell_type": "markdown",
   "metadata": {},
   "source": [
    "* Establish bins for ages\n",
    "\n",
    "\n",
    "* Categorize the existing players using the age bins. Hint: use pd.cut()\n",
    "\n",
    "\n",
    "* Calculate the numbers and percentages by age group\n",
    "\n",
    "\n",
    "* Create a summary data frame to hold the results\n",
    "\n",
    "\n",
    "* Optional: round the percentage column to two decimal points\n",
    "\n",
    "\n",
    "* Display Age Demographics Table\n"
   ]
  },
  {
   "cell_type": "code",
   "execution_count": 105,
   "metadata": {},
   "outputs": [],
   "source": [
    "# Create Bins\n",
    "bins = [0,9,14,19,24,29,34,39,150]\n",
    "\n",
    "# Give bins a name\n",
    "group_names = ['<10','10-14','15-19','20-24','25-29','30-34','35-39','40+']"
   ]
  },
  {
   "cell_type": "code",
   "execution_count": 277,
   "metadata": {},
   "outputs": [
    {
     "data": {
      "text/html": [
       "<style  type=\"text/css\" >\n",
       "</style>  \n",
       "<table id=\"T_d6b61d4c_32fc_11e9_bbc7_484520b20b50\" > \n",
       "<thead>    <tr> \n",
       "        <th class=\"blank level0\" ></th> \n",
       "        <th class=\"col_heading level0 col0\" >Total Count</th> \n",
       "        <th class=\"col_heading level0 col1\" >Percentage of Players</th> \n",
       "    </tr>    <tr> \n",
       "        <th class=\"index_name level0\" >Age Category</th> \n",
       "        <th class=\"blank\" ></th> \n",
       "        <th class=\"blank\" ></th> \n",
       "    </tr></thead> \n",
       "<tbody>    <tr> \n",
       "        <th id=\"T_d6b61d4c_32fc_11e9_bbc7_484520b20b50level0_row0\" class=\"row_heading level0 row0\" ><10</th> \n",
       "        <td id=\"T_d6b61d4c_32fc_11e9_bbc7_484520b20b50row0_col0\" class=\"data row0 col0\" >23</td> \n",
       "        <td id=\"T_d6b61d4c_32fc_11e9_bbc7_484520b20b50row0_col1\" class=\"data row0 col1\" >2.95%</td> \n",
       "    </tr>    <tr> \n",
       "        <th id=\"T_d6b61d4c_32fc_11e9_bbc7_484520b20b50level0_row1\" class=\"row_heading level0 row1\" >10-14</th> \n",
       "        <td id=\"T_d6b61d4c_32fc_11e9_bbc7_484520b20b50row1_col0\" class=\"data row1 col0\" >28</td> \n",
       "        <td id=\"T_d6b61d4c_32fc_11e9_bbc7_484520b20b50row1_col1\" class=\"data row1 col1\" >3.59%</td> \n",
       "    </tr>    <tr> \n",
       "        <th id=\"T_d6b61d4c_32fc_11e9_bbc7_484520b20b50level0_row2\" class=\"row_heading level0 row2\" >15-19</th> \n",
       "        <td id=\"T_d6b61d4c_32fc_11e9_bbc7_484520b20b50row2_col0\" class=\"data row2 col0\" >136</td> \n",
       "        <td id=\"T_d6b61d4c_32fc_11e9_bbc7_484520b20b50row2_col1\" class=\"data row2 col1\" >17.44%</td> \n",
       "    </tr>    <tr> \n",
       "        <th id=\"T_d6b61d4c_32fc_11e9_bbc7_484520b20b50level0_row3\" class=\"row_heading level0 row3\" >20-24</th> \n",
       "        <td id=\"T_d6b61d4c_32fc_11e9_bbc7_484520b20b50row3_col0\" class=\"data row3 col0\" >365</td> \n",
       "        <td id=\"T_d6b61d4c_32fc_11e9_bbc7_484520b20b50row3_col1\" class=\"data row3 col1\" >46.79%</td> \n",
       "    </tr>    <tr> \n",
       "        <th id=\"T_d6b61d4c_32fc_11e9_bbc7_484520b20b50level0_row4\" class=\"row_heading level0 row4\" >25-29</th> \n",
       "        <td id=\"T_d6b61d4c_32fc_11e9_bbc7_484520b20b50row4_col0\" class=\"data row4 col0\" >101</td> \n",
       "        <td id=\"T_d6b61d4c_32fc_11e9_bbc7_484520b20b50row4_col1\" class=\"data row4 col1\" >12.95%</td> \n",
       "    </tr>    <tr> \n",
       "        <th id=\"T_d6b61d4c_32fc_11e9_bbc7_484520b20b50level0_row5\" class=\"row_heading level0 row5\" >30-34</th> \n",
       "        <td id=\"T_d6b61d4c_32fc_11e9_bbc7_484520b20b50row5_col0\" class=\"data row5 col0\" >73</td> \n",
       "        <td id=\"T_d6b61d4c_32fc_11e9_bbc7_484520b20b50row5_col1\" class=\"data row5 col1\" >9.36%</td> \n",
       "    </tr>    <tr> \n",
       "        <th id=\"T_d6b61d4c_32fc_11e9_bbc7_484520b20b50level0_row6\" class=\"row_heading level0 row6\" >35-39</th> \n",
       "        <td id=\"T_d6b61d4c_32fc_11e9_bbc7_484520b20b50row6_col0\" class=\"data row6 col0\" >41</td> \n",
       "        <td id=\"T_d6b61d4c_32fc_11e9_bbc7_484520b20b50row6_col1\" class=\"data row6 col1\" >5.26%</td> \n",
       "    </tr>    <tr> \n",
       "        <th id=\"T_d6b61d4c_32fc_11e9_bbc7_484520b20b50level0_row7\" class=\"row_heading level0 row7\" >40+</th> \n",
       "        <td id=\"T_d6b61d4c_32fc_11e9_bbc7_484520b20b50row7_col0\" class=\"data row7 col0\" >13</td> \n",
       "        <td id=\"T_d6b61d4c_32fc_11e9_bbc7_484520b20b50row7_col1\" class=\"data row7 col1\" >1.67%</td> \n",
       "    </tr></tbody> \n",
       "</table> "
      ],
      "text/plain": [
       "<pandas.io.formats.style.Styler at 0x2214ff8b710>"
      ]
     },
     "execution_count": 277,
     "metadata": {},
     "output_type": "execute_result"
    }
   ],
   "source": [
    "purchase_data[\"Age Category\"] = pd.cut(purchase_data['Age'], bins, labels=group_names)\n",
    "age_cat = purchase_data.groupby('Age Category')\n",
    "age_demo = pd.DataFrame({'Total Count': age_cat['Age Category'].count(),\n",
    "                        'Percentage of Players': (age_cat['Age Category'].count()/len(purchase_data))*100})\n",
    "age_demo.style.format({'Percentage of Players': \"{:.2f}%\"})"
   ]
  },
  {
   "cell_type": "markdown",
   "metadata": {},
   "source": [
    "## Purchasing Analysis (Age)"
   ]
  },
  {
   "cell_type": "markdown",
   "metadata": {},
   "source": [
    "* Bin the purchase_data data frame by age\n",
    "\n",
    "\n",
    "* Run basic calculations to obtain purchase count, avg. purchase price, avg. purchase total per person etc. in the table below\n",
    "\n",
    "\n",
    "* Create a summary data frame to hold the results\n",
    "\n",
    "\n",
    "* Optional: give the displayed data cleaner formatting\n",
    "\n",
    "\n",
    "* Display the summary data frame"
   ]
  },
  {
   "cell_type": "code",
   "execution_count": 278,
   "metadata": {},
   "outputs": [
    {
     "data": {
      "text/html": [
       "<style  type=\"text/css\" >\n",
       "</style>  \n",
       "<table id=\"T_e59917c6_32fc_11e9_b302_484520b20b50\" > \n",
       "<thead>    <tr> \n",
       "        <th class=\"blank level0\" ></th> \n",
       "        <th class=\"col_heading level0 col0\" >Purchase Count</th> \n",
       "        <th class=\"col_heading level0 col1\" >Avg. Purchase Price</th> \n",
       "        <th class=\"col_heading level0 col2\" >Total Purchase Value</th> \n",
       "        <th class=\"col_heading level0 col3\" >Avg. Purchase Total per Person</th> \n",
       "    </tr>    <tr> \n",
       "        <th class=\"index_name level0\" >Age Category</th> \n",
       "        <th class=\"blank\" ></th> \n",
       "        <th class=\"blank\" ></th> \n",
       "        <th class=\"blank\" ></th> \n",
       "        <th class=\"blank\" ></th> \n",
       "    </tr></thead> \n",
       "<tbody>    <tr> \n",
       "        <th id=\"T_e59917c6_32fc_11e9_b302_484520b20b50level0_row0\" class=\"row_heading level0 row0\" ><10</th> \n",
       "        <td id=\"T_e59917c6_32fc_11e9_b302_484520b20b50row0_col0\" class=\"data row0 col0\" >23</td> \n",
       "        <td id=\"T_e59917c6_32fc_11e9_b302_484520b20b50row0_col1\" class=\"data row0 col1\" >$3.35</td> \n",
       "        <td id=\"T_e59917c6_32fc_11e9_b302_484520b20b50row0_col2\" class=\"data row0 col2\" >$77.13</td> \n",
       "        <td id=\"T_e59917c6_32fc_11e9_b302_484520b20b50row0_col3\" class=\"data row0 col3\" >$4.54</td> \n",
       "    </tr>    <tr> \n",
       "        <th id=\"T_e59917c6_32fc_11e9_b302_484520b20b50level0_row1\" class=\"row_heading level0 row1\" >10-14</th> \n",
       "        <td id=\"T_e59917c6_32fc_11e9_b302_484520b20b50row1_col0\" class=\"data row1 col0\" >28</td> \n",
       "        <td id=\"T_e59917c6_32fc_11e9_b302_484520b20b50row1_col1\" class=\"data row1 col1\" >$2.96</td> \n",
       "        <td id=\"T_e59917c6_32fc_11e9_b302_484520b20b50row1_col2\" class=\"data row1 col2\" >$82.78</td> \n",
       "        <td id=\"T_e59917c6_32fc_11e9_b302_484520b20b50row1_col3\" class=\"data row1 col3\" >$3.76</td> \n",
       "    </tr>    <tr> \n",
       "        <th id=\"T_e59917c6_32fc_11e9_b302_484520b20b50level0_row2\" class=\"row_heading level0 row2\" >15-19</th> \n",
       "        <td id=\"T_e59917c6_32fc_11e9_b302_484520b20b50row2_col0\" class=\"data row2 col0\" >136</td> \n",
       "        <td id=\"T_e59917c6_32fc_11e9_b302_484520b20b50row2_col1\" class=\"data row2 col1\" >$3.04</td> \n",
       "        <td id=\"T_e59917c6_32fc_11e9_b302_484520b20b50row2_col2\" class=\"data row2 col2\" >$412.89</td> \n",
       "        <td id=\"T_e59917c6_32fc_11e9_b302_484520b20b50row2_col3\" class=\"data row2 col3\" >$3.86</td> \n",
       "    </tr>    <tr> \n",
       "        <th id=\"T_e59917c6_32fc_11e9_b302_484520b20b50level0_row3\" class=\"row_heading level0 row3\" >20-24</th> \n",
       "        <td id=\"T_e59917c6_32fc_11e9_b302_484520b20b50row3_col0\" class=\"data row3 col0\" >365</td> \n",
       "        <td id=\"T_e59917c6_32fc_11e9_b302_484520b20b50row3_col1\" class=\"data row3 col1\" >$3.05</td> \n",
       "        <td id=\"T_e59917c6_32fc_11e9_b302_484520b20b50row3_col2\" class=\"data row3 col2\" >$1114.06</td> \n",
       "        <td id=\"T_e59917c6_32fc_11e9_b302_484520b20b50row3_col3\" class=\"data row3 col3\" >$4.32</td> \n",
       "    </tr>    <tr> \n",
       "        <th id=\"T_e59917c6_32fc_11e9_b302_484520b20b50level0_row4\" class=\"row_heading level0 row4\" >25-29</th> \n",
       "        <td id=\"T_e59917c6_32fc_11e9_b302_484520b20b50row4_col0\" class=\"data row4 col0\" >101</td> \n",
       "        <td id=\"T_e59917c6_32fc_11e9_b302_484520b20b50row4_col1\" class=\"data row4 col1\" >$2.90</td> \n",
       "        <td id=\"T_e59917c6_32fc_11e9_b302_484520b20b50row4_col2\" class=\"data row4 col2\" >$293.00</td> \n",
       "        <td id=\"T_e59917c6_32fc_11e9_b302_484520b20b50row4_col3\" class=\"data row4 col3\" >$3.81</td> \n",
       "    </tr>    <tr> \n",
       "        <th id=\"T_e59917c6_32fc_11e9_b302_484520b20b50level0_row5\" class=\"row_heading level0 row5\" >30-34</th> \n",
       "        <td id=\"T_e59917c6_32fc_11e9_b302_484520b20b50row5_col0\" class=\"data row5 col0\" >73</td> \n",
       "        <td id=\"T_e59917c6_32fc_11e9_b302_484520b20b50row5_col1\" class=\"data row5 col1\" >$2.93</td> \n",
       "        <td id=\"T_e59917c6_32fc_11e9_b302_484520b20b50row5_col2\" class=\"data row5 col2\" >$214.00</td> \n",
       "        <td id=\"T_e59917c6_32fc_11e9_b302_484520b20b50row5_col3\" class=\"data row5 col3\" >$4.12</td> \n",
       "    </tr>    <tr> \n",
       "        <th id=\"T_e59917c6_32fc_11e9_b302_484520b20b50level0_row6\" class=\"row_heading level0 row6\" >35-39</th> \n",
       "        <td id=\"T_e59917c6_32fc_11e9_b302_484520b20b50row6_col0\" class=\"data row6 col0\" >41</td> \n",
       "        <td id=\"T_e59917c6_32fc_11e9_b302_484520b20b50row6_col1\" class=\"data row6 col1\" >$3.60</td> \n",
       "        <td id=\"T_e59917c6_32fc_11e9_b302_484520b20b50row6_col2\" class=\"data row6 col2\" >$147.67</td> \n",
       "        <td id=\"T_e59917c6_32fc_11e9_b302_484520b20b50row6_col3\" class=\"data row6 col3\" >$4.76</td> \n",
       "    </tr>    <tr> \n",
       "        <th id=\"T_e59917c6_32fc_11e9_b302_484520b20b50level0_row7\" class=\"row_heading level0 row7\" >40+</th> \n",
       "        <td id=\"T_e59917c6_32fc_11e9_b302_484520b20b50row7_col0\" class=\"data row7 col0\" >13</td> \n",
       "        <td id=\"T_e59917c6_32fc_11e9_b302_484520b20b50row7_col1\" class=\"data row7 col1\" >$2.94</td> \n",
       "        <td id=\"T_e59917c6_32fc_11e9_b302_484520b20b50row7_col2\" class=\"data row7 col2\" >$38.24</td> \n",
       "        <td id=\"T_e59917c6_32fc_11e9_b302_484520b20b50row7_col3\" class=\"data row7 col3\" >$3.19</td> \n",
       "    </tr></tbody> \n",
       "</table> "
      ],
      "text/plain": [
       "<pandas.io.formats.style.Styler at 0x221504b8390>"
      ]
     },
     "execution_count": 278,
     "metadata": {},
     "output_type": "execute_result"
    }
   ],
   "source": [
    "purchase_data[\"Age Category\"] = pd.cut(purchase_data['Age'], bins, labels=group_names)\n",
    "age_demo_analysis = pd.DataFrame({'Purchase Count': purchase_data.groupby(['Age Category'])['Age Category'].count(),\n",
    "                         'Avg. Purchase Price': purchase_data.groupby(['Age Category'])['Price'].mean(), \n",
    "                         'Total Purchase Value': purchase_data.groupby(['Age Category'])['Price'].sum(),\n",
    "                         'Avg. Purchase Total per Person': purchase_data.groupby(['Age Category', 'SN'])['Price'].sum().mean(level=\"Age Category\")\n",
    "                        })\n",
    "age_demo_analysis.style.format({'Avg. Purchase Price': \"${:.2f}\", \n",
    "                              'Total Purchase Value': \"${:.2f}\",\n",
    "                              'Avg. Purchase Total per Person': \"${:.2f}\" })"
   ]
  },
  {
   "cell_type": "markdown",
   "metadata": {},
   "source": [
    "## Top Spenders"
   ]
  },
  {
   "cell_type": "markdown",
   "metadata": {},
   "source": [
    "* Run basic calculations to obtain the results in the table below\n",
    "\n",
    "\n",
    "* Create a summary data frame to hold the results\n",
    "\n",
    "\n",
    "* Sort the total purchase value column in descending order\n",
    "\n",
    "\n",
    "* Optional: give the displayed data cleaner formatting\n",
    "\n",
    "\n",
    "* Display a preview of the summary data frame\n",
    "\n"
   ]
  },
  {
   "cell_type": "code",
   "execution_count": 282,
   "metadata": {},
   "outputs": [
    {
     "data": {
      "text/html": [
       "<style  type=\"text/css\" >\n",
       "</style>  \n",
       "<table id=\"T_1d7037e6_32fd_11e9_811b_484520b20b50\" > \n",
       "<thead>    <tr> \n",
       "        <th class=\"blank level0\" ></th> \n",
       "        <th class=\"col_heading level0 col0\" >Purchase Count</th> \n",
       "        <th class=\"col_heading level0 col1\" >Avg. Purchase Price</th> \n",
       "        <th class=\"col_heading level0 col2\" >Total Purchase Value</th> \n",
       "    </tr>    <tr> \n",
       "        <th class=\"index_name level0\" >SN</th> \n",
       "        <th class=\"blank\" ></th> \n",
       "        <th class=\"blank\" ></th> \n",
       "        <th class=\"blank\" ></th> \n",
       "    </tr></thead> \n",
       "<tbody>    <tr> \n",
       "        <th id=\"T_1d7037e6_32fd_11e9_811b_484520b20b50level0_row0\" class=\"row_heading level0 row0\" >Lisosia93</th> \n",
       "        <td id=\"T_1d7037e6_32fd_11e9_811b_484520b20b50row0_col0\" class=\"data row0 col0\" >5</td> \n",
       "        <td id=\"T_1d7037e6_32fd_11e9_811b_484520b20b50row0_col1\" class=\"data row0 col1\" >$3.79</td> \n",
       "        <td id=\"T_1d7037e6_32fd_11e9_811b_484520b20b50row0_col2\" class=\"data row0 col2\" >$18.96</td> \n",
       "    </tr>    <tr> \n",
       "        <th id=\"T_1d7037e6_32fd_11e9_811b_484520b20b50level0_row1\" class=\"row_heading level0 row1\" >Idastidru52</th> \n",
       "        <td id=\"T_1d7037e6_32fd_11e9_811b_484520b20b50row1_col0\" class=\"data row1 col0\" >4</td> \n",
       "        <td id=\"T_1d7037e6_32fd_11e9_811b_484520b20b50row1_col1\" class=\"data row1 col1\" >$3.86</td> \n",
       "        <td id=\"T_1d7037e6_32fd_11e9_811b_484520b20b50row1_col2\" class=\"data row1 col2\" >$15.45</td> \n",
       "    </tr>    <tr> \n",
       "        <th id=\"T_1d7037e6_32fd_11e9_811b_484520b20b50level0_row2\" class=\"row_heading level0 row2\" >Chamjask73</th> \n",
       "        <td id=\"T_1d7037e6_32fd_11e9_811b_484520b20b50row2_col0\" class=\"data row2 col0\" >3</td> \n",
       "        <td id=\"T_1d7037e6_32fd_11e9_811b_484520b20b50row2_col1\" class=\"data row2 col1\" >$4.61</td> \n",
       "        <td id=\"T_1d7037e6_32fd_11e9_811b_484520b20b50row2_col2\" class=\"data row2 col2\" >$13.83</td> \n",
       "    </tr>    <tr> \n",
       "        <th id=\"T_1d7037e6_32fd_11e9_811b_484520b20b50level0_row3\" class=\"row_heading level0 row3\" >Iral74</th> \n",
       "        <td id=\"T_1d7037e6_32fd_11e9_811b_484520b20b50row3_col0\" class=\"data row3 col0\" >4</td> \n",
       "        <td id=\"T_1d7037e6_32fd_11e9_811b_484520b20b50row3_col1\" class=\"data row3 col1\" >$3.40</td> \n",
       "        <td id=\"T_1d7037e6_32fd_11e9_811b_484520b20b50row3_col2\" class=\"data row3 col2\" >$13.62</td> \n",
       "    </tr>    <tr> \n",
       "        <th id=\"T_1d7037e6_32fd_11e9_811b_484520b20b50level0_row4\" class=\"row_heading level0 row4\" >Iskadarya95</th> \n",
       "        <td id=\"T_1d7037e6_32fd_11e9_811b_484520b20b50row4_col0\" class=\"data row4 col0\" >3</td> \n",
       "        <td id=\"T_1d7037e6_32fd_11e9_811b_484520b20b50row4_col1\" class=\"data row4 col1\" >$4.37</td> \n",
       "        <td id=\"T_1d7037e6_32fd_11e9_811b_484520b20b50row4_col2\" class=\"data row4 col2\" >$13.10</td> \n",
       "    </tr></tbody> \n",
       "</table> "
      ],
      "text/plain": [
       "<pandas.io.formats.style.Styler at 0x22150528710>"
      ]
     },
     "execution_count": 282,
     "metadata": {},
     "output_type": "execute_result"
    }
   ],
   "source": [
    "top_spender = pd.DataFrame({'Purchase Count': purchase_data.groupby(['SN'])['SN'].count(),\n",
    "                         'Avg. Purchase Price': purchase_data.groupby(['SN'])['Price'].mean(), \n",
    "                         'Total Purchase Value': purchase_data.groupby(['SN'])['Price'].sum(),\n",
    "                            })\n",
    "top_spender.sort_values(by=['Total Purchase Value'], ascending=False).head().style.format({'Avg. Purchase Price': \"${:.2f}\", \n",
    "                              'Total Purchase Value': \"${:.2f}\"})"
   ]
  },
  {
   "cell_type": "markdown",
   "metadata": {},
   "source": [
    "## Most Popular Items"
   ]
  },
  {
   "cell_type": "markdown",
   "metadata": {},
   "source": [
    "* Retrieve the Item ID, Item Name, and Item Price columns\n",
    "\n",
    "\n",
    "* Group by Item ID and Item Name. Perform calculations to obtain purchase count, item price, and total purchase value\n",
    "\n",
    "\n",
    "* Create a summary data frame to hold the results\n",
    "\n",
    "\n",
    "* Sort the purchase count column in descending order\n",
    "\n",
    "\n",
    "* Optional: give the displayed data cleaner formatting\n",
    "\n",
    "\n",
    "* Display a preview of the summary data frame\n",
    "\n"
   ]
  },
  {
   "cell_type": "code",
   "execution_count": 283,
   "metadata": {},
   "outputs": [
    {
     "data": {
      "text/html": [
       "<style  type=\"text/css\" >\n",
       "</style>  \n",
       "<table id=\"T_3585cf88_32fd_11e9_a285_484520b20b50\" > \n",
       "<thead>    <tr> \n",
       "        <th class=\"blank\" ></th> \n",
       "        <th class=\"blank level0\" ></th> \n",
       "        <th class=\"col_heading level0 col0\" >Purchase Count</th> \n",
       "        <th class=\"col_heading level0 col1\" >Item Price</th> \n",
       "        <th class=\"col_heading level0 col2\" >Total Purchase Value</th> \n",
       "    </tr>    <tr> \n",
       "        <th class=\"index_name level0\" >Item ID</th> \n",
       "        <th class=\"index_name level1\" >Item Name</th> \n",
       "        <th class=\"blank\" ></th> \n",
       "        <th class=\"blank\" ></th> \n",
       "        <th class=\"blank\" ></th> \n",
       "    </tr></thead> \n",
       "<tbody>    <tr> \n",
       "        <th id=\"T_3585cf88_32fd_11e9_a285_484520b20b50level0_row0\" class=\"row_heading level0 row0\" >178</th> \n",
       "        <th id=\"T_3585cf88_32fd_11e9_a285_484520b20b50level1_row0\" class=\"row_heading level1 row0\" >Oathbreaker, Last Hope of the Breaking Storm</th> \n",
       "        <td id=\"T_3585cf88_32fd_11e9_a285_484520b20b50row0_col0\" class=\"data row0 col0\" >12</td> \n",
       "        <td id=\"T_3585cf88_32fd_11e9_a285_484520b20b50row0_col1\" class=\"data row0 col1\" >$4.23</td> \n",
       "        <td id=\"T_3585cf88_32fd_11e9_a285_484520b20b50row0_col2\" class=\"data row0 col2\" >$50.76</td> \n",
       "    </tr>    <tr> \n",
       "        <th id=\"T_3585cf88_32fd_11e9_a285_484520b20b50level0_row1\" class=\"row_heading level0 row1\" >145</th> \n",
       "        <th id=\"T_3585cf88_32fd_11e9_a285_484520b20b50level1_row1\" class=\"row_heading level1 row1\" >Fiery Glass Crusader</th> \n",
       "        <td id=\"T_3585cf88_32fd_11e9_a285_484520b20b50row1_col0\" class=\"data row1 col0\" >9</td> \n",
       "        <td id=\"T_3585cf88_32fd_11e9_a285_484520b20b50row1_col1\" class=\"data row1 col1\" >$4.58</td> \n",
       "        <td id=\"T_3585cf88_32fd_11e9_a285_484520b20b50row1_col2\" class=\"data row1 col2\" >$41.22</td> \n",
       "    </tr>    <tr> \n",
       "        <th id=\"T_3585cf88_32fd_11e9_a285_484520b20b50level0_row2\" class=\"row_heading level0 row2\" >108</th> \n",
       "        <th id=\"T_3585cf88_32fd_11e9_a285_484520b20b50level1_row2\" class=\"row_heading level1 row2\" >Extraction, Quickblade Of Trembling Hands</th> \n",
       "        <td id=\"T_3585cf88_32fd_11e9_a285_484520b20b50row2_col0\" class=\"data row2 col0\" >9</td> \n",
       "        <td id=\"T_3585cf88_32fd_11e9_a285_484520b20b50row2_col1\" class=\"data row2 col1\" >$3.53</td> \n",
       "        <td id=\"T_3585cf88_32fd_11e9_a285_484520b20b50row2_col2\" class=\"data row2 col2\" >$31.77</td> \n",
       "    </tr>    <tr> \n",
       "        <th id=\"T_3585cf88_32fd_11e9_a285_484520b20b50level0_row3\" class=\"row_heading level0 row3\" >82</th> \n",
       "        <th id=\"T_3585cf88_32fd_11e9_a285_484520b20b50level1_row3\" class=\"row_heading level1 row3\" >Nirvana</th> \n",
       "        <td id=\"T_3585cf88_32fd_11e9_a285_484520b20b50row3_col0\" class=\"data row3 col0\" >9</td> \n",
       "        <td id=\"T_3585cf88_32fd_11e9_a285_484520b20b50row3_col1\" class=\"data row3 col1\" >$4.90</td> \n",
       "        <td id=\"T_3585cf88_32fd_11e9_a285_484520b20b50row3_col2\" class=\"data row3 col2\" >$44.10</td> \n",
       "    </tr>    <tr> \n",
       "        <th id=\"T_3585cf88_32fd_11e9_a285_484520b20b50level0_row4\" class=\"row_heading level0 row4\" >19</th> \n",
       "        <th id=\"T_3585cf88_32fd_11e9_a285_484520b20b50level1_row4\" class=\"row_heading level1 row4\" >Pursuit, Cudgel of Necromancy</th> \n",
       "        <td id=\"T_3585cf88_32fd_11e9_a285_484520b20b50row4_col0\" class=\"data row4 col0\" >8</td> \n",
       "        <td id=\"T_3585cf88_32fd_11e9_a285_484520b20b50row4_col1\" class=\"data row4 col1\" >$1.02</td> \n",
       "        <td id=\"T_3585cf88_32fd_11e9_a285_484520b20b50row4_col2\" class=\"data row4 col2\" >$8.16</td> \n",
       "    </tr></tbody> \n",
       "</table> "
      ],
      "text/plain": [
       "<pandas.io.formats.style.Styler at 0x2214ff32dd8>"
      ]
     },
     "execution_count": 283,
     "metadata": {},
     "output_type": "execute_result"
    }
   ],
   "source": [
    "most_popular = pd.DataFrame({'Purchase Count': purchase_data.groupby(['Item ID', 'Item Name'])['Item Name'].count(), \n",
    "                            \"Item Price\": purchase_data.groupby(['Item ID', 'Item Name'])['Price'].mean(), \n",
    "                            \"Total Purchase Value\": purchase_data.groupby(['Item ID', 'Item Name'])['Price'].sum(level='Item ID') \n",
    "                            })\n",
    "most_popular.sort_values(by=['Purchase Count'], ascending=False).head().style.format({'Item Price': \"${:.2f}\", \n",
    "                              'Total Purchase Value': \"${:.2f}\"})"
   ]
  },
  {
   "cell_type": "markdown",
   "metadata": {},
   "source": [
    "## Most Profitable Items"
   ]
  },
  {
   "cell_type": "markdown",
   "metadata": {},
   "source": [
    "* Sort the above table by total purchase value in descending order\n",
    "\n",
    "\n",
    "* Optional: give the displayed data cleaner formatting\n",
    "\n",
    "\n",
    "* Display a preview of the data frame\n",
    "\n"
   ]
  },
  {
   "cell_type": "code",
   "execution_count": 284,
   "metadata": {
    "scrolled": true
   },
   "outputs": [
    {
     "data": {
      "text/html": [
       "<style  type=\"text/css\" >\n",
       "</style>  \n",
       "<table id=\"T_3daab714_32fd_11e9_ba1f_484520b20b50\" > \n",
       "<thead>    <tr> \n",
       "        <th class=\"blank\" ></th> \n",
       "        <th class=\"blank level0\" ></th> \n",
       "        <th class=\"col_heading level0 col0\" >Purchase Count</th> \n",
       "        <th class=\"col_heading level0 col1\" >Item Price</th> \n",
       "        <th class=\"col_heading level0 col2\" >Total Purchase Value</th> \n",
       "    </tr>    <tr> \n",
       "        <th class=\"index_name level0\" >Item ID</th> \n",
       "        <th class=\"index_name level1\" >Item Name</th> \n",
       "        <th class=\"blank\" ></th> \n",
       "        <th class=\"blank\" ></th> \n",
       "        <th class=\"blank\" ></th> \n",
       "    </tr></thead> \n",
       "<tbody>    <tr> \n",
       "        <th id=\"T_3daab714_32fd_11e9_ba1f_484520b20b50level0_row0\" class=\"row_heading level0 row0\" >178</th> \n",
       "        <th id=\"T_3daab714_32fd_11e9_ba1f_484520b20b50level1_row0\" class=\"row_heading level1 row0\" >Oathbreaker, Last Hope of the Breaking Storm</th> \n",
       "        <td id=\"T_3daab714_32fd_11e9_ba1f_484520b20b50row0_col0\" class=\"data row0 col0\" >12</td> \n",
       "        <td id=\"T_3daab714_32fd_11e9_ba1f_484520b20b50row0_col1\" class=\"data row0 col1\" >$4.23</td> \n",
       "        <td id=\"T_3daab714_32fd_11e9_ba1f_484520b20b50row0_col2\" class=\"data row0 col2\" >$50.76</td> \n",
       "    </tr>    <tr> \n",
       "        <th id=\"T_3daab714_32fd_11e9_ba1f_484520b20b50level0_row1\" class=\"row_heading level0 row1\" >82</th> \n",
       "        <th id=\"T_3daab714_32fd_11e9_ba1f_484520b20b50level1_row1\" class=\"row_heading level1 row1\" >Nirvana</th> \n",
       "        <td id=\"T_3daab714_32fd_11e9_ba1f_484520b20b50row1_col0\" class=\"data row1 col0\" >9</td> \n",
       "        <td id=\"T_3daab714_32fd_11e9_ba1f_484520b20b50row1_col1\" class=\"data row1 col1\" >$4.90</td> \n",
       "        <td id=\"T_3daab714_32fd_11e9_ba1f_484520b20b50row1_col2\" class=\"data row1 col2\" >$44.10</td> \n",
       "    </tr>    <tr> \n",
       "        <th id=\"T_3daab714_32fd_11e9_ba1f_484520b20b50level0_row2\" class=\"row_heading level0 row2\" >145</th> \n",
       "        <th id=\"T_3daab714_32fd_11e9_ba1f_484520b20b50level1_row2\" class=\"row_heading level1 row2\" >Fiery Glass Crusader</th> \n",
       "        <td id=\"T_3daab714_32fd_11e9_ba1f_484520b20b50row2_col0\" class=\"data row2 col0\" >9</td> \n",
       "        <td id=\"T_3daab714_32fd_11e9_ba1f_484520b20b50row2_col1\" class=\"data row2 col1\" >$4.58</td> \n",
       "        <td id=\"T_3daab714_32fd_11e9_ba1f_484520b20b50row2_col2\" class=\"data row2 col2\" >$41.22</td> \n",
       "    </tr>    <tr> \n",
       "        <th id=\"T_3daab714_32fd_11e9_ba1f_484520b20b50level0_row3\" class=\"row_heading level0 row3\" >92</th> \n",
       "        <th id=\"T_3daab714_32fd_11e9_ba1f_484520b20b50level1_row3\" class=\"row_heading level1 row3\" >Final Critic</th> \n",
       "        <td id=\"T_3daab714_32fd_11e9_ba1f_484520b20b50row3_col0\" class=\"data row3 col0\" >8</td> \n",
       "        <td id=\"T_3daab714_32fd_11e9_ba1f_484520b20b50row3_col1\" class=\"data row3 col1\" >$4.88</td> \n",
       "        <td id=\"T_3daab714_32fd_11e9_ba1f_484520b20b50row3_col2\" class=\"data row3 col2\" >$39.04</td> \n",
       "    </tr>    <tr> \n",
       "        <th id=\"T_3daab714_32fd_11e9_ba1f_484520b20b50level0_row4\" class=\"row_heading level0 row4\" >103</th> \n",
       "        <th id=\"T_3daab714_32fd_11e9_ba1f_484520b20b50level1_row4\" class=\"row_heading level1 row4\" >Singed Scalpel</th> \n",
       "        <td id=\"T_3daab714_32fd_11e9_ba1f_484520b20b50row4_col0\" class=\"data row4 col0\" >8</td> \n",
       "        <td id=\"T_3daab714_32fd_11e9_ba1f_484520b20b50row4_col1\" class=\"data row4 col1\" >$4.35</td> \n",
       "        <td id=\"T_3daab714_32fd_11e9_ba1f_484520b20b50row4_col2\" class=\"data row4 col2\" >$34.80</td> \n",
       "    </tr></tbody> \n",
       "</table> "
      ],
      "text/plain": [
       "<pandas.io.formats.style.Styler at 0x2214f9c3198>"
      ]
     },
     "execution_count": 284,
     "metadata": {},
     "output_type": "execute_result"
    }
   ],
   "source": [
    "most_popular.sort_values(by=['Total Purchase Value'], ascending=False).head().style.format({'Item Price': \"${:.2f}\", \n",
    "                              'Total Purchase Value': \"${:.2f}\"})"
   ]
  },
  {
   "cell_type": "code",
   "execution_count": null,
   "metadata": {},
   "outputs": [],
   "source": []
  }
 ],
 "metadata": {
  "anaconda-cloud": {},
  "kernel_info": {
   "name": "python3"
  },
  "kernelspec": {
   "display_name": "Python 3",
   "language": "python",
   "name": "python3"
  },
  "language_info": {
   "codemirror_mode": {
    "name": "ipython",
    "version": 3
   },
   "file_extension": ".py",
   "mimetype": "text/x-python",
   "name": "python",
   "nbconvert_exporter": "python",
   "pygments_lexer": "ipython3",
   "version": "3.7.1"
  },
  "nteract": {
   "version": "0.2.0"
  }
 },
 "nbformat": 4,
 "nbformat_minor": 2
}
